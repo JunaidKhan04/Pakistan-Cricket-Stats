{
 "cells": [
  {
   "cell_type": "markdown",
   "id": "2675c9b0",
   "metadata": {},
   "source": [
    "## Import Libraries"
   ]
  },
  {
   "cell_type": "code",
   "execution_count": 2,
   "id": "41aee957",
   "metadata": {},
   "outputs": [],
   "source": [
    "import json\n",
    "import os\n",
    "from langchain.chains import LLMChain\n",
    "from langchain.prompts import ChatPromptTemplate, SystemMessagePromptTemplate, HumanMessagePromptTemplate\n",
    "from langchain_groq import ChatGroq\n",
    "from langchain.memory import ConversationBufferMemory"
   ]
  },
  {
   "cell_type": "code",
   "execution_count": 3,
   "id": "ae8e00f3",
   "metadata": {},
   "outputs": [
    {
     "name": "stderr",
     "output_type": "stream",
     "text": [
      "C:\\Users\\junai\\AppData\\Local\\Temp\\ipykernel_8356\\2878734244.py:1: LangChainDeprecationWarning: Please see the migration guide at: https://python.langchain.com/docs/versions/migrating_memory/\n",
      "  memory = ConversationBufferMemory(memory_key=\"history\", return_messages=True)\n"
     ]
    }
   ],
   "source": [
    "memory = ConversationBufferMemory(memory_key=\"history\", return_messages=True)"
   ]
  },
  {
   "cell_type": "markdown",
   "id": "33b7f94e",
   "metadata": {},
   "source": [
    "## Prepare Schema"
   ]
  },
  {
   "cell_type": "code",
   "execution_count": 4,
   "id": "f13217d6",
   "metadata": {},
   "outputs": [],
   "source": [
    "with open(\"../schema.json\", \"r\") as f:\n",
    "    schema = json.load(f)\n"
   ]
  },
  {
   "cell_type": "markdown",
   "id": "603f6746",
   "metadata": {},
   "source": [
    "## Query Generator"
   ]
  },
  {
   "cell_type": "code",
   "execution_count": 5,
   "id": "b960418c",
   "metadata": {},
   "outputs": [
    {
     "data": {
      "text/plain": [
       "True"
      ]
     },
     "execution_count": 5,
     "metadata": {},
     "output_type": "execute_result"
    }
   ],
   "source": [
    "from dotenv import load_dotenv\n",
    "load_dotenv()\n"
   ]
  },
  {
   "cell_type": "code",
   "execution_count": 6,
   "id": "ea2ca567",
   "metadata": {},
   "outputs": [],
   "source": [
    "system_message = SystemMessagePromptTemplate.from_template(\n",
    "\"You are a smart and intelligent assistant for the Pakistan Cricket Chatbot. Your job is to understand natural language questions from users and retrieve accurate cricket statistics from the MySQL database.\"\n",
    "\"You are also an expert SQL assistant. Only generate safe, syntactically correct SELECT queries based on the provided database schema: {schema}.\"\n",
    "\"You are strictly prohibited from making any changes to the database. Do NOT generate queries with any of the following keywords: CREATE, ALTER, DROP, TRUNCATE, RENAME, ADD, MODIFY, DELETE, REMOVE, CHANGE.\"\n",
    "\"If the user asks for such operations, respond politely: 'Sorry, I’m only allowed to fetch data, not modify it.'\"\n",
    "\"Only return SQL SELECT statements without any explanations or formatting — just the raw SQL.\"\n",
    ").format(schema=schema)\n",
    "\n",
    "\n",
    "human_message = HumanMessagePromptTemplate.from_template(\"{input}\")\n",
    "\n",
    "chat  = ChatGroq(\n",
    "    temperature=0.9,\n",
    "    groq_api_key=os.getenv(\"GROQ_API_KEY\"),\n",
    "    model_name = \"llama3-70b-8192\",\n",
    "    max_tokens=100\n",
    ")\n",
    "\n",
    "def Query_generator(input):\n",
    "    prompt = ChatPromptTemplate.from_messages([\n",
    "        system_message,\n",
    "        human_message\n",
    "    ])\n",
    "    llm_chain = LLMChain(llm=chat, prompt=prompt, memory=memory)\n",
    "    query = llm_chain.run(input)\n",
    "    cleaned_query = query.replace(\"```\", \"\").replace(\"\\n\", \" \").strip()\n",
    "    return cleaned_query\n",
    "\n"
   ]
  },
  {
   "cell_type": "markdown",
   "id": "5cf0ec9f",
   "metadata": {},
   "source": [
    "## DataBase Connection"
   ]
  },
  {
   "cell_type": "code",
   "execution_count": 7,
   "id": "9d546c86",
   "metadata": {},
   "outputs": [
    {
     "data": {
      "text/plain": [
       "True"
      ]
     },
     "execution_count": 7,
     "metadata": {},
     "output_type": "execute_result"
    }
   ],
   "source": [
    "import os\n",
    "from dotenv import load_dotenv\n",
    "\n",
    "# Load .env from parent directory\n",
    "load_dotenv(dotenv_path=\"../.env\")  # because .env is one level up\n"
   ]
  },
  {
   "cell_type": "code",
   "execution_count": 8,
   "id": "16be2b7e",
   "metadata": {},
   "outputs": [
    {
     "data": {
      "text/plain": [
       "True"
      ]
     },
     "execution_count": 8,
     "metadata": {},
     "output_type": "execute_result"
    }
   ],
   "source": [
    "load_dotenv(dotenv_path=\"C:/Users/junai/Desktop/chat-bot2/chat-bot/.env\")\n"
   ]
  },
  {
   "cell_type": "code",
   "execution_count": null,
   "id": "dd752614",
   "metadata": {},
   "outputs": [],
   "source": [
    "# pip install mysql-connector-python\n"
   ]
  },
  {
   "cell_type": "code",
   "execution_count": 11,
   "id": "15e1db30",
   "metadata": {},
   "outputs": [],
   "source": [
    "import mysql.connector\n",
    "import os\n",
    "\n",
    "# Get connection info from environment or directly fill them here\n",
    "config = {\n",
    "    'user': os.getenv('DB_USER', 'your_username'),\n",
    "    'password': os.getenv('DB_PASSWORD', 'your_password'),\n",
    "    'host': os.getenv('DB_HOST', 'localhost'),\n",
    "    'database': os.getenv('DB_NAME', 'your_database'),\n",
    "}\n"
   ]
  },
  {
   "cell_type": "markdown",
   "id": "7e4a5f62",
   "metadata": {},
   "source": [
    "## Execute Query"
   ]
  },
  {
   "cell_type": "code",
   "execution_count": 12,
   "id": "0ca0e3ad",
   "metadata": {},
   "outputs": [],
   "source": [
    "def execute_query(query):\n",
    "    conn = mysql.connector.connect(**config)\n",
    "    cursor = conn.cursor()\n",
    "    \n",
    "    try:\n",
    "        cursor.execute(query)\n",
    "        results = cursor.fetchall()\n",
    "        columns = [desc[0] for desc in cursor.description]\n",
    "        return [dict(zip(columns, row)) for row in results]\n",
    "    except mysql.connector.Error as err:\n",
    "        return f\"MySQL Error: {err}\"\n",
    "    finally:\n",
    "        cursor.close()\n",
    "        conn.close()\n"
   ]
  },
  {
   "cell_type": "code",
   "execution_count": 13,
   "id": "9261b142",
   "metadata": {},
   "outputs": [
    {
     "name": "stderr",
     "output_type": "stream",
     "text": [
      "C:\\Users\\junai\\AppData\\Local\\Temp\\ipykernel_8356\\1212160386.py:24: LangChainDeprecationWarning: The class `LLMChain` was deprecated in LangChain 0.1.17 and will be removed in 1.0. Use :meth:`~RunnableSequence, e.g., `prompt | llm`` instead.\n",
      "  llm_chain = LLMChain(llm=chat, prompt=prompt, memory=memory)\n",
      "C:\\Users\\junai\\AppData\\Local\\Temp\\ipykernel_8356\\1212160386.py:25: LangChainDeprecationWarning: The method `Chain.run` was deprecated in langchain 0.1.0 and will be removed in 1.0. Use :meth:`~invoke` instead.\n",
      "  query = llm_chain.run(input)\n"
     ]
    },
    {
     "name": "stdout",
     "output_type": "stream",
     "text": [
      "MySQL Error: 1064 (42000): You have an error in your SQL syntax; check the manual that corresponds to your MySQL server version for the right syntax to use near 'Sorry, I'm only allowed to fetch data, not provide external information. Please ' at line 1\n"
     ]
    }
   ],
   "source": [
    "query = Query_generator(\"what is the address?\")\n",
    "results = execute_query(query)\n",
    "\n",
    "print(results)\n"
   ]
  },
  {
   "cell_type": "markdown",
   "id": "e043f7ab",
   "metadata": {},
   "source": [
    "## Generate Answer"
   ]
  },
  {
   "cell_type": "code",
   "execution_count": null,
   "id": "98c0c071",
   "metadata": {},
   "outputs": [],
   "source": [
    "from langchain.prompts import PromptTemplate\n",
    "\n",
    "\n",
    "def generate_answer(question, result):\n",
    "    conversational_prompt = PromptTemplate.from_template(\n",
    "        \"You are a friendly Pakistan Cricket  assistant. Using the ongoing conversation and the result from the database, \"\n",
    "        \"respond conversationally and clearly. Be concise and helpful.\\n\\n\"\n",
    "        \"Conversation History:\\n{history}\\n\\n\"\n",
    "        \"User Question: {question}\\n\"\n",
    "        \"Database Result: {result}\\n\\n\"\n",
    "        \"Answer:\"\n",
    "    )\n",
    "    prompt = conversational_prompt.format(\n",
    "        history=memory.load_memory_variables({})[\"history\"],\n",
    "        question=question,\n",
    "        result=result\n",
    "    )\n",
    "    response = chat.invoke(prompt)\n",
    "    memory.save_context({\"input\": question}, {\"output\": response.content})  # save this round\n",
    "    return response.content\n"
   ]
  },
  {
   "cell_type": "code",
   "execution_count": 16,
   "id": "cf46cc92",
   "metadata": {},
   "outputs": [
    {
     "name": "stdout",
     "output_type": "stream",
     "text": [
      "I can help you with Babar Azam's T20 performance! According to our database, Babar Azam has played 123 matches, scoring a total of 4145 runs with an average of 41.00. His highest score is 122, and he has 36 fifties and 3 centuries to his name. He has also taken 50 catches in his T20 career.\n"
     ]
    }
   ],
   "source": [
    "question1 = \"Babar azam t20 performance\"\n",
    "query1 = Query_generator(question1)\n",
    "result1 = execute_query(query1)\n",
    "print(generate_answer(question1, result1))"
   ]
  },
  {
   "cell_type": "code",
   "execution_count": 17,
   "id": "4c4a49f1",
   "metadata": {},
   "outputs": [
    {
     "name": "stdout",
     "output_type": "stream",
     "text": [
      "I'm happy to help you with the 2020 matches! According to our database, here are the performances of some players in 2020:\n",
      "\n",
      "* Mohammad Rizwan played 218 matches, scoring 6614 runs with an average of 33.00, and took 139 wickets.\n",
      "* Nadeem Ghauri played 91 matches, scoring 740 runs with an average of 15.00, and took 120 wickets.\n",
      "* Sajjad Akbar played\n"
     ]
    }
   ],
   "source": [
    "question2 = \"2020 matches?\"\n",
    "query2 = Query_generator(question2)\n",
    "result2 = execute_query(query2)\n",
    "print(generate_answer(question2, result2))\n",
    "\n"
   ]
  },
  {
   "cell_type": "code",
   "execution_count": 18,
   "id": "617e026b",
   "metadata": {},
   "outputs": [
    {
     "name": "stdout",
     "output_type": "stream",
     "text": [
      "I can answer that for you! According to our database, the player who scored the most runs in ODI matches is the one with player_id 336, and they have scored a whopping 11,701 runs!\n"
     ]
    }
   ],
   "source": [
    "question3 = \"Who scored the most runs in ODI matches?\"\n",
    "query3 = Query_generator(question3)\n",
    "result3 = execute_query(query3)\n",
    "print(generate_answer(question3, result3))"
   ]
  },
  {
   "cell_type": "code",
   "execution_count": 19,
   "id": "249451cc",
   "metadata": {},
   "outputs": [
    {
     "name": "stdout",
     "output_type": "stream",
     "text": [
      "According to our database, the players who have scored more than 5,000 runs in ODIs are:\n",
      "\n",
      "* Player with ID 336 (11,701 runs)\n",
      "* Player with ID 253 (6,921 runs)\n",
      "* Player with ID 217 (6,434 runs)\n",
      "* Player with ID 183 (5,962 runs)\n",
      "\n",
      "Let me know if you'd like more information about these players!\n"
     ]
    }
   ],
   "source": [
    "question4 = \"List players who have scored more than 5,000 runs in ODIs?\"\n",
    "# No new query — generate from memory\n",
    "print(generate_answer(question4, \"\"))"
   ]
  },
  {
   "cell_type": "code",
   "execution_count": 21,
   "id": "53552568",
   "metadata": {},
   "outputs": [
    {
     "name": "stdout",
     "output_type": "stream",
     "text": [
      "Players with more than 5000 ODI runs:\n",
      "\n",
      "Player ID: 270, Name: Javed Miandad, Runs: 7381\n",
      "Player ID: 293, Name: Saleem Malik, Runs: 7170\n",
      "Player ID: 311, Name: Rameez Raja, Runs: 5841\n",
      "Player ID: 315, Name: Abdur Rauf, Runs: 6564\n",
      "Player ID: 323, Name: Anwar Ali, Runs: 8823\n",
      "Player ID: 336, Name: Inzamam0ul0Haq1, Runs: 11701\n",
      "Player ID: 364, Name: Imad Wasim, Runs: 8064\n",
      "Player ID: 366, Name: Imran Farhat, Runs: 5080\n",
      "Player ID: 377, Name: Kashif Raza, Runs: 9720\n",
      "Player ID: 383, Name: Mansoor Amjad, Runs: 7534\n",
      "Player ID: 386, Name: Younis Khan, Runs: 7240\n",
      "Player ID: 397, Name: Mohammad Irfan, Runs: 5122\n",
      "Player ID: 399, Name: Mohammad Rizwan, Runs: 6614\n"
     ]
    }
   ],
   "source": [
    "import mysql.connector\n",
    "import os\n",
    "from dotenv import load_dotenv\n",
    "\n",
    "# ✅ Load environment variables from .env file\n",
    "load_dotenv()\n",
    "\n",
    "# ✅ Connect to the MySQL database\n",
    "conn = mysql.connector.connect(\n",
    "    host=os.getenv(\"DB_HOST\"),\n",
    "    user=os.getenv(\"DB_USER\"),\n",
    "    password=os.getenv(\"DB_PASSWORD\"),\n",
    "    database=os.getenv(\"DB_NAME\")\n",
    ")\n",
    "\n",
    "# ✅ Create a cursor object\n",
    "cursor = conn.cursor()\n",
    "\n",
    "# ✅ Query to find players with more than 5000 ODI runs\n",
    "query = \"\"\"\n",
    "SELECT p.player_id, p.player_name, o.runs_scored\n",
    "FROM players p\n",
    "JOIN odi_match_stats o ON p.player_id = o.player_id\n",
    "WHERE o.runs_scored > 5000;\n",
    "\"\"\"\n",
    "\n",
    "# ✅ Execute the query\n",
    "cursor.execute(query)\n",
    "\n",
    "# ✅ Fetch the results\n",
    "results = cursor.fetchall()\n",
    "\n",
    "# ✅ Display the players\n",
    "print(\"Players with more than 5000 ODI runs:\\n\")\n",
    "for row in results:\n",
    "    print(f\"Player ID: {row[0]}, Name: {row[1]}, Runs: {row[2]}\")\n",
    "\n",
    "# ✅ Close connection\n",
    "cursor.close()\n",
    "conn.close()\n"
   ]
  },
  {
   "cell_type": "code",
   "execution_count": null,
   "id": "2089bc70",
   "metadata": {},
   "outputs": [],
   "source": []
  }
 ],
 "metadata": {
  "kernelspec": {
   "display_name": "base",
   "language": "python",
   "name": "python3"
  },
  "language_info": {
   "codemirror_mode": {
    "name": "ipython",
    "version": 3
   },
   "file_extension": ".py",
   "mimetype": "text/x-python",
   "name": "python",
   "nbconvert_exporter": "python",
   "pygments_lexer": "ipython3",
   "version": "3.12.7"
  }
 },
 "nbformat": 4,
 "nbformat_minor": 5
}
